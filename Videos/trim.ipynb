{
 "cells": [
  {
   "cell_type": "code",
   "execution_count": 3,
   "id": "e0c3c7d3",
   "metadata": {},
   "outputs": [],
   "source": [
    "import os\n",
    "import ffmpeg\n",
    "import math\n",
    "import shutil\n",
    "#!pip install ffmpeg-python"
   ]
  },
  {
   "cell_type": "code",
   "execution_count": 4,
   "id": "549f5afe",
   "metadata": {},
   "outputs": [],
   "source": [
    "file_path = os.getcwd()\n",
    "\n",
    "video_list = []\n",
    "video_trim_output = ['_0', '_1', '_2', '_3']\n",
    "video_width = 1920\n",
    "video_height = 1080\n",
    "\n",
    "video_trim_x = [0, video_width/2, 0, video_width/2]\n",
    "video_trim_y = [0, 0, video_height/2, video_height/2]\n"
   ]
  },
  {
   "cell_type": "code",
   "execution_count": 5,
   "id": "c18440f2",
   "metadata": {},
   "outputs": [],
   "source": [
    "for video in os.listdir(file_path):\n",
    "    # check only html files\n",
    "    if video.endswith('.mp4'):\n",
    "        #video_list.append(video.split('.mp4')[0])\n",
    "        video_list.append(video)\n",
    "        "
   ]
  },
  {
   "cell_type": "code",
   "execution_count": 6,
   "id": "3f646340",
   "metadata": {},
   "outputs": [
    {
     "data": {
      "text/plain": [
       "[]"
      ]
     },
     "execution_count": 6,
     "metadata": {},
     "output_type": "execute_result"
    }
   ],
   "source": [
    "video_list"
   ]
  },
  {
   "cell_type": "code",
   "execution_count": 18,
   "id": "09234788",
   "metadata": {},
   "outputs": [],
   "source": [
    "def crop_video(video_name):\n",
    "    for idx, trim_section in enumerate(video_trim_output):\n",
    "        video_name_output = video_name + trim_section + '.mp4'\n",
    "        \n",
    "        command = f'ffmpeg -i {video_name} -filter:v \"crop={video_width/2}:{video_height/2}:{video_trim_x[idx]}:{video_trim_y[idx]}\" {video_name_output}'\n",
    "        os.system(command)\n",
    "        print(f'{video_name_output}: cropped')\n",
    "        "
   ]
  },
  {
   "cell_type": "code",
   "execution_count": 23,
   "id": "cd5acfb8",
   "metadata": {},
   "outputs": [],
   "source": [
    "def trim_video(video):\n",
    "    video_name = video.split('.mp4')[0]\n",
    "\n",
    "    video_name_t = video_name + '_Clip' + '.mp4'\n",
    "    #command = f'ffmpeg -ss 00:03:45.0 -i {video} -c copy -t 00:00:10.0 {video_name_t}'\n",
    "    command = f'ffmpeg -ss 00:03:40 -t 00:00:20 -i {video} -async 1 {video_name_t}'\n",
    "    #command = f'ffmpeg -i {video} -ss 3 -vcodec copy -acodec copy {video_name_t}'\n",
    "    os.system(command)\n",
    "    print(f'{video_name}: trimmed')"
   ]
  },
  {
   "cell_type": "code",
   "execution_count": 6,
   "id": "890ba2c3",
   "metadata": {},
   "outputs": [],
   "source": [
    "def get_frames(video):\n",
    "    video_name = video.split('.mp4')[0]\n",
    "    command = f'ffmpeg -i {video} -vf fps=30/1 {video_name}/%05d.png'\n",
    "    os.system(command)"
   ]
  },
  {
   "cell_type": "code",
   "execution_count": 47,
   "id": "8b21ef9b",
   "metadata": {},
   "outputs": [],
   "source": [
    "def post_folder(folder):\n",
    "    f_per_f = 999\n",
    "    frame_list = os.listdir(folder)\n",
    "    n_folders = math.ceil(len(frame_list) / f_per_f)\n",
    "    subf_list = []\n",
    "    iter = 0\n",
    "    last = 0\n",
    "    for n in range(n_folders):\n",
    "        sub_file = folder + '_' + str(n)\n",
    "        os.mkdir(folder + '/' + sub_file)\n",
    "        subf_list.append(sub_file)\n",
    "\n",
    "        for frame in frame_list[last:last+f_per_f]:\n",
    "            iter += 1\n",
    "            shutil.move(f\"{folder}/{frame}\", f'{folder}/{sub_file}/{frame}')\n",
    "        last = iter\n",
    "        \n",
    "    "
   ]
  },
  {
   "cell_type": "code",
   "execution_count": 34,
   "id": "5f9872eb",
   "metadata": {},
   "outputs": [],
   "source": [
    "get_frames('Laura_3.mp4')"
   ]
  },
  {
   "cell_type": "code",
   "execution_count": 25,
   "id": "5b12c411",
   "metadata": {},
   "outputs": [
    {
     "data": {
      "text/plain": [
       "21960"
      ]
     },
     "execution_count": 25,
     "metadata": {},
     "output_type": "execute_result"
    }
   ],
   "source": [
    "len(os.listdir('Laura_0'))"
   ]
  },
  {
   "cell_type": "code",
   "execution_count": 51,
   "id": "642fb2c5",
   "metadata": {},
   "outputs": [],
   "source": [
    "post_folder('Laura_3')"
   ]
  },
  {
   "cell_type": "code",
   "execution_count": null,
   "id": "4eef6361",
   "metadata": {},
   "outputs": [],
   "source": []
  }
 ],
 "metadata": {
  "kernelspec": {
   "display_name": "Python 3",
   "language": "python",
   "name": "python3"
  },
  "language_info": {
   "codemirror_mode": {
    "name": "ipython",
    "version": 3
   },
   "file_extension": ".py",
   "mimetype": "text/x-python",
   "name": "python",
   "nbconvert_exporter": "python",
   "pygments_lexer": "ipython3",
   "version": "3.9.16"
  },
  "vscode": {
   "interpreter": {
    "hash": "3c28207cbf101b5fd31f062ed72814c7d2a1b366155535ea78ffa95e3f97ec6b"
   }
  }
 },
 "nbformat": 4,
 "nbformat_minor": 5
}
