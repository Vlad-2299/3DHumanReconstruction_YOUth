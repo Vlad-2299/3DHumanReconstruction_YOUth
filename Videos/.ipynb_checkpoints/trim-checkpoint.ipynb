{
 "cells": [
  {
   "cell_type": "code",
   "execution_count": 1,
   "id": "e0c3c7d3",
   "metadata": {},
   "outputs": [],
   "source": [
    "import os\n",
    "import ffmpeg\n",
    "#!pip install ffmpeg-python"
   ]
  },
  {
   "cell_type": "code",
   "execution_count": 20,
   "id": "549f5afe",
   "metadata": {},
   "outputs": [],
   "source": [
    "file_path = os.getcwd()\n",
    "\n",
    "video_list = []\n",
    "video_trim_output = ['_t1a', '_t1b', '_t2a', '_t2b']\n",
    "video_width = 1920\n",
    "video_height = 1080\n",
    "\n",
    "video_trim_x = [0, video_width/2, 0, video_width/2]\n",
    "video_trim_y = [0, 0, video_height/2, video_height/2]\n"
   ]
  },
  {
   "cell_type": "code",
   "execution_count": 21,
   "id": "c18440f2",
   "metadata": {},
   "outputs": [],
   "source": [
    "for video in os.listdir(file_path):\n",
    "    # check only html files\n",
    "    if video.endswith('.mp4'):\n",
    "        #video_list.append(video.split('.mp4')[0])\n",
    "        video_list.append(video)\n",
    "        "
   ]
  },
  {
   "cell_type": "code",
   "execution_count": 22,
   "id": "ba64ffd7",
   "metadata": {},
   "outputs": [
    {
     "data": {
      "text/plain": [
       "['Laura_1.mp4']"
      ]
     },
     "execution_count": 22,
     "metadata": {},
     "output_type": "execute_result"
    }
   ],
   "source": [
    "video_list"
   ]
  },
  {
   "cell_type": "code",
   "execution_count": 25,
   "id": "cf91fb93",
   "metadata": {},
   "outputs": [
    {
     "name": "stdout",
     "output_type": "stream",
     "text": [
      "Laura_1_t1a.mp4\n",
      "Laura_1_t1b.mp4\n",
      "Laura_1_t2a.mp4\n",
      "Laura_1_t2b.mp4\n"
     ]
    }
   ],
   "source": [
    "for video in video_list:\n",
    "    video_name = video.split('.mp4')[0]\n",
    "    for idx, trim_section in enumerate(video_trim_output):\n",
    "        video_name_output = video_name + video_trim_output[idx] + '.mp4'\n",
    "        command = f'ffmpeg -i {video} -filter:v \"crop={video_width/2}:{video_height/2}:{video_trim_x[idx]}:{video_trim_y[idx]}\" {video_name_output}'\n",
    "        print(video_name_output)\n",
    "        os.system(command)"
   ]
  },
  {
   "cell_type": "code",
   "execution_count": null,
   "id": "d6a9eac3",
   "metadata": {},
   "outputs": [],
   "source": []
  }
 ],
 "metadata": {
  "kernelspec": {
   "display_name": "Python 3 (ipykernel)",
   "language": "python",
   "name": "python3"
  },
  "language_info": {
   "codemirror_mode": {
    "name": "ipython",
    "version": 3
   },
   "file_extension": ".py",
   "mimetype": "text/x-python",
   "name": "python",
   "nbconvert_exporter": "python",
   "pygments_lexer": "ipython3",
   "version": "3.9.7"
  }
 },
 "nbformat": 4,
 "nbformat_minor": 5
}
